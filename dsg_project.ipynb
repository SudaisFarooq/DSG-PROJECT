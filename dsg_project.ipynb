{
 "cells": [
  {
   "cell_type": "code",
   "execution_count": 6,
   "id": "41a3d9c7-c37a-498e-9184-a86a5039ad58",
   "metadata": {},
   "outputs": [],
   "source": [
    "import numpy as np\n",
    "import yfinance as yf\n",
    "import pandas as pd\n",
    "import matplotlib.pyplot as plt"
   ]
  },
  {
   "cell_type": "code",
   "execution_count": 7,
   "id": "54dfeb9f-f77c-4fab-992c-56d377b577b7",
   "metadata": {},
   "outputs": [],
   "source": [
    "def geometric_brownian_motion(S0,T,dt,mu,sigma):\n",
    "    N=int(T/dt)\n",
    "    t = np.linspace(0, T, N)\n",
    "    W = np.cumsum(np.random.normal(0, np.sqrt(dt), size=N))  # Wiener process\n",
    "    S = S0 * np.exp((mu - 0.5 * sigma**2) * t + sigma * W)\n",
    "    print(S)\n",
    "    return t, S\n",
    "    "
   ]
  },
  {
   "cell_type": "code",
   "execution_count": 8,
   "id": "a4364a47-e716-47d3-8bda-6528874ad48f",
   "metadata": {},
   "outputs": [],
   "source": [
    "def fetch_stock_data(ticker, start_date, end_date):\n",
    "    try: \n",
    "        data = yf.download(ticker, start_date, end_date)\n",
    "        return data[['Open', 'High', 'Low', 'Close', 'Volume']]\n",
    "    except Exception as e:\n",
    "        print(f\"Error fetching data: {e}\")\n",
    "        return pd.DataFrame()"
   ]
  },
  {
   "cell_type": "code",
   "execution_count": 9,
   "id": "7e3e2b82-ee52-4c07-ad0b-69894973c389",
   "metadata": {},
   "outputs": [],
   "source": [
    "if __name__ == \"__main__\":\n",
    "    ticker = input(\"Enter the stock ticker symbol (e.g., AAPL): \")\n",
    "    start_date = input(\"Enter the start date (YYYY-MM-DD): \")\n",
    "    end_date = input(\"Enter the end date (YYYY-MM-DD): \")"
   ]
  },
  {
   "cell_type": "code",
   "execution_count": null,
   "id": "06ea7d47-7170-4187-bedb-87b4bc9df32a",
   "metadata": {},
   "outputs": [],
   "source": [
    "stock_data = fetch_stock_data(ticker, start_date, end_date)\n",
    "if stock_data.empty:\n",
    "        print(\"No valid data to process. Exiting.\")\n",
    "else:\n",
    "        close_prices = stock_data['Close']"
   ]
  },
  {
   "cell_type": "code",
   "execution_count": null,
   "id": "f51897b8",
   "metadata": {},
   "outputs": [],
   "source": [
    "stock_data.info()"
   ]
  },
  {
   "cell_type": "code",
   "execution_count": null,
   "id": "e7bba973",
   "metadata": {},
   "outputs": [],
   "source": [
    "stock_data.describe()"
   ]
  },
  {
   "cell_type": "code",
   "execution_count": null,
   "id": "fee36482-5e8a-41a0-8d74-f5393564dae9",
   "metadata": {},
   "outputs": [],
   "source": [
    "plt.figure(figsize=(10, 6))\n",
    "close_prices.plot(title=f\"Historical Stock Prices for {ticker}\", label=\"Actual Prices\")\n",
    "plt.xlabel(\"Time\")\n",
    "plt.ylabel(\"Price\")\n",
    "plt.grid()\n",
    "plt.legend()\n",
    "plt.show()\n"
   ]
  },
  {
   "cell_type": "code",
   "execution_count": null,
   "id": "9b5d9b2e-599f-4145-bdff-894b081c26a4",
   "metadata": {},
   "outputs": [],
   "source": [
    "S0 = float(close_prices.iloc[-1])  # Last known price\n",
    "T = 1  # Time period in years\n",
    "dt = 1 / 252  # Daily time step (assuming 252 trading days/year)"
   ]
  },
  {
   "cell_type": "code",
   "execution_count": null,
   "id": "5925e783-9232-454d-b03e-1f83da728e0e",
   "metadata": {},
   "outputs": [],
   "source": [
    "stock_data['Log Returns'] = np.log(stock_data['Close'] / stock_data['Close'].shift(1))\n",
    "mu = stock_data['Log Returns'].mean() * 252  # Annualized daily log return\n",
    "sigma = stock_data['Log Returns'].std() * np.sqrt(252)  # Annualized volatility\n",
    "\n",
    "print(f\"Drift coefficient (mu): {mu:}\")\n",
    "print(f\"Volatility (sigma): {sigma:}\")"
   ]
  },
  {
   "cell_type": "code",
   "execution_count": null,
   "id": "751615b9-66fa-4817-868e-3f95ee92e7bf",
   "metadata": {},
   "outputs": [],
   "source": [
    "t, simulated_prices = geometric_brownian_motion(S0, T, dt, mu, sigma)"
   ]
  },
  {
   "cell_type": "code",
   "execution_count": null,
   "id": "39980435",
   "metadata": {},
   "outputs": [],
   "source": [
    "print(f\"Last known price: {S0}\")"
   ]
  },
  {
   "cell_type": "code",
   "execution_count": null,
   "id": "842c274a-6eba-4498-bb0a-bb4c6000d6f4",
   "metadata": {},
   "outputs": [],
   "source": [
    "plt.figure(figsize=(10, 6))\n",
    "plt.plot(t, simulated_prices, label=\"Simulated Prices\", color='orange')\n",
    "plt.title(f\"Simulated Stock Prices for {ticker} (Next Year)\")\n",
    "plt.xlabel(\"Time (Years)\")\n",
    "plt.ylabel(\"Price\")\n",
    "plt.grid()\n",
    "plt.legend()\n",
    "plt.show()"
   ]
  }
 ],
 "metadata": {
  "kernelspec": {
   "display_name": "Python 3",
   "language": "python",
   "name": "python3"
  },
  "language_info": {
   "codemirror_mode": {
    "name": "ipython",
    "version": 3
   },
   "file_extension": ".py",
   "mimetype": "text/x-python",
   "name": "python",
   "nbconvert_exporter": "python",
   "pygments_lexer": "ipython3",
   "version": "3.13.1"
  }
 },
 "nbformat": 4,
 "nbformat_minor": 5
}
